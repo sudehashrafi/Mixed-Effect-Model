{
 "cells": [
  {
   "cell_type": "code",
   "execution_count": 1,
   "id": "40d86b72",
   "metadata": {},
   "outputs": [
    {
     "name": "stdout",
     "output_type": "stream",
     "text": [
      "Requirement already satisfied: pandas in c:\\users\\asus\\anaconda3\\lib\\site-packages (2.0.3)\n",
      "Requirement already satisfied: statsmodels in c:\\users\\asus\\appdata\\roaming\\python\\python38\\site-packages (0.14.1)\n",
      "Requirement already satisfied: pytz>=2020.1 in c:\\users\\asus\\anaconda3\\lib\\site-packages (from pandas) (2021.1)\n",
      "Requirement already satisfied: numpy>=1.20.3 in c:\\users\\asus\\anaconda3\\lib\\site-packages (from pandas) (1.24.4)\n",
      "Requirement already satisfied: python-dateutil>=2.8.2 in c:\\users\\asus\\anaconda3\\lib\\site-packages (from pandas) (2.9.0.post0)\n",
      "Requirement already satisfied: tzdata>=2022.1 in c:\\users\\asus\\anaconda3\\lib\\site-packages (from pandas) (2024.1)\n",
      "Requirement already satisfied: six>=1.5 in c:\\users\\asus\\anaconda3\\lib\\site-packages (from python-dateutil>=2.8.2->pandas) (1.15.0)\n",
      "Requirement already satisfied: scipy!=1.9.2,>=1.4 in c:\\users\\asus\\anaconda3\\lib\\site-packages (from statsmodels) (1.10.1)\n",
      "Requirement already satisfied: patsy>=0.5.4 in c:\\users\\asus\\appdata\\roaming\\python\\python38\\site-packages (from statsmodels) (0.5.6)\n",
      "Requirement already satisfied: packaging>=21.3 in c:\\users\\asus\\appdata\\roaming\\python\\python38\\site-packages (from statsmodels) (24.1)\n"
     ]
    }
   ],
   "source": [
    "!pip install pandas statsmodels"
   ]
  },
  {
   "cell_type": "code",
   "execution_count": 2,
   "id": "9a540c79",
   "metadata": {},
   "outputs": [],
   "source": [
    "import pandas as pd\n",
    "import statsmodels.api as sm\n",
    "from statsmodels.formula.api import mixedlm"
   ]
  },
  {
   "cell_type": "code",
   "execution_count": 3,
   "id": "fe87a209",
   "metadata": {},
   "outputs": [],
   "source": [
    "data = {\n",
    "    'subject':[1, 1, 1, 2, 2, 2, 3, 3, 3],\n",
    "    'time': [1, 2, 3, 1, 2, 3, 1, 2, 3],\n",
    "    'score': [10, 12, 14, 15, 17, 19, 20, 21, 22],\n",
    "    'treatment': [0, 0, 0, 1, 1, 1, 0, 0, 0]\n",
    "}"
   ]
  },
  {
   "cell_type": "code",
   "execution_count": 7,
   "id": "eb91c665",
   "metadata": {},
   "outputs": [],
   "source": [
    "df = pd.DataFrame(data)"
   ]
  },
  {
   "cell_type": "code",
   "execution_count": 8,
   "id": "a3e9ba49",
   "metadata": {},
   "outputs": [
    {
     "data": {
      "text/html": [
       "<div>\n",
       "<style scoped>\n",
       "    .dataframe tbody tr th:only-of-type {\n",
       "        vertical-align: middle;\n",
       "    }\n",
       "\n",
       "    .dataframe tbody tr th {\n",
       "        vertical-align: top;\n",
       "    }\n",
       "\n",
       "    .dataframe thead th {\n",
       "        text-align: right;\n",
       "    }\n",
       "</style>\n",
       "<table border=\"1\" class=\"dataframe\">\n",
       "  <thead>\n",
       "    <tr style=\"text-align: right;\">\n",
       "      <th></th>\n",
       "      <th>subject</th>\n",
       "      <th>time</th>\n",
       "      <th>score</th>\n",
       "      <th>treatment</th>\n",
       "    </tr>\n",
       "  </thead>\n",
       "  <tbody>\n",
       "    <tr>\n",
       "      <th>0</th>\n",
       "      <td>1</td>\n",
       "      <td>1</td>\n",
       "      <td>10</td>\n",
       "      <td>0</td>\n",
       "    </tr>\n",
       "    <tr>\n",
       "      <th>1</th>\n",
       "      <td>1</td>\n",
       "      <td>2</td>\n",
       "      <td>12</td>\n",
       "      <td>0</td>\n",
       "    </tr>\n",
       "    <tr>\n",
       "      <th>2</th>\n",
       "      <td>1</td>\n",
       "      <td>3</td>\n",
       "      <td>14</td>\n",
       "      <td>0</td>\n",
       "    </tr>\n",
       "    <tr>\n",
       "      <th>3</th>\n",
       "      <td>2</td>\n",
       "      <td>1</td>\n",
       "      <td>15</td>\n",
       "      <td>1</td>\n",
       "    </tr>\n",
       "    <tr>\n",
       "      <th>4</th>\n",
       "      <td>2</td>\n",
       "      <td>2</td>\n",
       "      <td>17</td>\n",
       "      <td>1</td>\n",
       "    </tr>\n",
       "  </tbody>\n",
       "</table>\n",
       "</div>"
      ],
      "text/plain": [
       "   subject  time  score  treatment\n",
       "0        1     1     10          0\n",
       "1        1     2     12          0\n",
       "2        1     3     14          0\n",
       "3        2     1     15          1\n",
       "4        2     2     17          1"
      ]
     },
     "execution_count": 8,
     "metadata": {},
     "output_type": "execute_result"
    }
   ],
   "source": [
    "df.head()"
   ]
  },
  {
   "cell_type": "code",
   "execution_count": 9,
   "id": "70a356f9",
   "metadata": {},
   "outputs": [],
   "source": [
    "model = mixedlm(\"score ~ time + treatment\", df, groups=df[\"subject\"])"
   ]
  },
  {
   "cell_type": "code",
   "execution_count": 10,
   "id": "1f5572b4",
   "metadata": {},
   "outputs": [],
   "source": [
    "result = model.fit()"
   ]
  },
  {
   "cell_type": "code",
   "execution_count": 11,
   "id": "dbab5579",
   "metadata": {},
   "outputs": [
    {
     "data": {
      "text/html": [
       "<table class=\"simpletable\">\n",
       "<tr>\n",
       "       <td>Model:</td>       <td>MixedLM</td> <td>Dependent Variable:</td>  <td>score</td> \n",
       "</tr>\n",
       "<tr>\n",
       "  <td>No. Observations:</td>    <td>9</td>          <td>Method:</td>        <td>REML</td>  \n",
       "</tr>\n",
       "<tr>\n",
       "     <td>No. Groups:</td>       <td>3</td>          <td>Scale:</td>        <td>0.2667</td> \n",
       "</tr>\n",
       "<tr>\n",
       "  <td>Min. group size:</td>     <td>3</td>      <td>Log-Likelihood:</td>   <td>-9.9503</td>\n",
       "</tr>\n",
       "<tr>\n",
       "  <td>Max. group size:</td>     <td>3</td>        <td>Converged:</td>        <td>Yes</td>  \n",
       "</tr>\n",
       "<tr>\n",
       "  <td>Mean group size:</td>    <td>3.0</td>            <td></td>              <td></td>    \n",
       "</tr>\n",
       "</table>\n",
       "<table class=\"simpletable\">\n",
       "<tr>\n",
       "      <td></td>       <th>Coef.</th> <th>Std.Err.</th>   <th>z</th>   <th>P>|z|</th> <th>[0.025</th>  <th>0.975]</th>\n",
       "</tr>\n",
       "<tr>\n",
       "  <th>Intercept</th> <td>13.167</td>   <td>4.520</td>  <td>2.913</td> <td>0.004</td>  <td>4.308</td>  <td>22.025</td>\n",
       "</tr>\n",
       "<tr>\n",
       "  <th>time</th>       <td>1.667</td>   <td>0.211</td>  <td>7.906</td> <td>0.000</td>  <td>1.253</td>   <td>2.080</td>\n",
       "</tr>\n",
       "<tr>\n",
       "  <th>treatment</th>  <td>0.500</td>   <td>7.794</td>  <td>0.064</td> <td>0.949</td> <td>-14.776</td> <td>15.776</td>\n",
       "</tr>\n",
       "<tr>\n",
       "  <th>Group Var</th> <td>40.410</td>  <td>121.490</td>   <td></td>      <td></td>       <td></td>        <td></td>   \n",
       "</tr>\n",
       "</table><br/>\n"
      ],
      "text/latex": [
       "\\begin{table}\n",
       "\\caption{Mixed Linear Model Regression Results}\n",
       "\\label{}\n",
       "\\begin{center}\n",
       "\\begin{tabular}{llll}\n",
       "\\hline\n",
       "Model:            & MixedLM & Dependent Variable: & score    \\\\\n",
       "No. Observations: & 9       & Method:             & REML     \\\\\n",
       "No. Groups:       & 3       & Scale:              & 0.2667   \\\\\n",
       "Min. group size:  & 3       & Log-Likelihood:     & -9.9503  \\\\\n",
       "Max. group size:  & 3       & Converged:          & Yes      \\\\\n",
       "Mean group size:  & 3.0     &                     &          \\\\\n",
       "\\hline\n",
       "\\end{tabular}\n",
       "\\end{center}\n",
       "\n",
       "\\begin{center}\n",
       "\\begin{tabular}{lrrrrrr}\n",
       "\\hline\n",
       "          &  Coef. & Std.Err. &     z & P$> |$z$|$ &  [0.025 & 0.975]  \\\\\n",
       "\\hline\n",
       "Intercept & 13.167 &    4.520 & 2.913 &       0.004 &   4.308 & 22.025  \\\\\n",
       "time      &  1.667 &    0.211 & 7.906 &       0.000 &   1.253 &  2.080  \\\\\n",
       "treatment &  0.500 &    7.794 & 0.064 &       0.949 & -14.776 & 15.776  \\\\\n",
       "Group Var & 40.410 &  121.490 &       &             &         &         \\\\\n",
       "\\hline\n",
       "\\end{tabular}\n",
       "\\end{center}\n",
       "\\end{table}\n",
       "\\bigskip\n"
      ],
      "text/plain": [
       "<class 'statsmodels.iolib.summary2.Summary'>\n",
       "\"\"\"\n",
       "        Mixed Linear Model Regression Results\n",
       "=====================================================\n",
       "Model:            MixedLM Dependent Variable: score  \n",
       "No. Observations: 9       Method:             REML   \n",
       "No. Groups:       3       Scale:              0.2667 \n",
       "Min. group size:  3       Log-Likelihood:     -9.9503\n",
       "Max. group size:  3       Converged:          Yes    \n",
       "Mean group size:  3.0                                \n",
       "-----------------------------------------------------\n",
       "           Coef.  Std.Err.   z   P>|z|  [0.025 0.975]\n",
       "-----------------------------------------------------\n",
       "Intercept  13.167    4.520 2.913 0.004   4.308 22.025\n",
       "time        1.667    0.211 7.906 0.000   1.253  2.080\n",
       "treatment   0.500    7.794 0.064 0.949 -14.776 15.776\n",
       "Group Var  40.410  121.490                           \n",
       "=====================================================\n",
       "\n",
       "\"\"\""
      ]
     },
     "execution_count": 11,
     "metadata": {},
     "output_type": "execute_result"
    }
   ],
   "source": [
    "result.summary()"
   ]
  },
  {
   "cell_type": "code",
   "execution_count": null,
   "id": "100777ab",
   "metadata": {},
   "outputs": [],
   "source": []
  },
  {
   "cell_type": "code",
   "execution_count": null,
   "id": "8bafdb4a",
   "metadata": {},
   "outputs": [],
   "source": []
  }
 ],
 "metadata": {
  "kernelspec": {
   "display_name": "Python 3",
   "language": "python",
   "name": "python3"
  },
  "language_info": {
   "codemirror_mode": {
    "name": "ipython",
    "version": 3
   },
   "file_extension": ".py",
   "mimetype": "text/x-python",
   "name": "python",
   "nbconvert_exporter": "python",
   "pygments_lexer": "ipython3",
   "version": "3.8.8"
  }
 },
 "nbformat": 4,
 "nbformat_minor": 5
}
